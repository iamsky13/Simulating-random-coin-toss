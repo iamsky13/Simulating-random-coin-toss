{
 "cells": [
  {
   "cell_type": "code",
   "execution_count": 19,
   "metadata": {},
   "outputs": [
    {
     "name": "stdout",
     "output_type": "stream",
     "text": [
      "0\n",
      "[0, 0]\n",
      "1\n",
      "[0, 0, 1]\n",
      "0\n",
      "[0, 0, 1, 1]\n",
      "0\n",
      "[0, 0, 1, 1, 1]\n",
      "0\n",
      "[0, 0, 1, 1, 1, 1]\n",
      "0\n",
      "[0, 0, 1, 1, 1, 1, 1]\n",
      "0\n",
      "[0, 0, 1, 1, 1, 1, 1, 1]\n",
      "1\n",
      "[0, 0, 1, 1, 1, 1, 1, 1, 2]\n",
      "1\n",
      "[0, 0, 1, 1, 1, 1, 1, 1, 2, 3]\n",
      "0\n",
      "[0, 0, 1, 1, 1, 1, 1, 1, 2, 3, 3]\n",
      "\n",
      "\n",
      "total no. of tails : 3\n"
     ]
    }
   ],
   "source": [
    "import numpy as np\n",
    "np.random.seed(123) \n",
    "tail = [0]\n",
    "for x in range(10) : #tossing 10 times\n",
    "    coin = np.random.randint(0,2) #0 means head and 1 means tail\n",
    "    tail.append(tail[x]+coin)\n",
    "    print(coin)\n",
    "    print(tail) \n",
    "print(\"\\n\")\n",
    "print(\"total no. of tails : \"+str(tail[-1]))"
   ]
  },
  {
   "cell_type": "code",
   "execution_count": null,
   "metadata": {
    "collapsed": true
   },
   "outputs": [],
   "source": []
  },
  {
   "cell_type": "code",
   "execution_count": null,
   "metadata": {
    "collapsed": true
   },
   "outputs": [],
   "source": []
  },
  {
   "cell_type": "code",
   "execution_count": null,
   "metadata": {
    "collapsed": true
   },
   "outputs": [],
   "source": []
  }
 ],
 "metadata": {
  "kernelspec": {
   "display_name": "Python 2",
   "language": "python",
   "name": "python2"
  },
  "language_info": {
   "codemirror_mode": {
    "name": "ipython",
    "version": 2
   },
   "file_extension": ".py",
   "mimetype": "text/x-python",
   "name": "python",
   "nbconvert_exporter": "python",
   "pygments_lexer": "ipython2",
   "version": "2.7.13"
  }
 },
 "nbformat": 4,
 "nbformat_minor": 2
}
