{
 "cells": [
  {
   "cell_type": "code",
   "execution_count": 19,
   "metadata": {},
   "outputs": [
    {
     "name": "stdout",
     "output_type": "stream",
     "text": [
      "0\n",
      "[0, 0]\n",
      "1\n",
      "[0, 0, 1]\n",
      "0\n",
      "[0, 0, 1, 1]\n",
      "0\n",
      "[0, 0, 1, 1, 1]\n",
      "0\n",
      "[0, 0, 1, 1, 1, 1]\n",
      "0\n",
      "[0, 0, 1, 1, 1, 1, 1]\n",
      "0\n",
      "[0, 0, 1, 1, 1, 1, 1, 1]\n",
      "1\n",
      "[0, 0, 1, 1, 1, 1, 1, 1, 2]\n",
      "1\n",
      "[0, 0, 1, 1, 1, 1, 1, 1, 2, 3]\n",
      "0\n",
      "[0, 0, 1, 1, 1, 1, 1, 1, 2, 3, 3]\n",
      "\n",
      "\n",
      "total no. of tails : 3\n"
     ]
    }
   ],
   "source": [
    "import numpy as np\n",
    "np.random.seed(123) \n",
    "tail = [0]\n",
    "for x in range(10) : #tossing 10 times\n",
    "    coin = np.random.randint(0,2) #0 means head and 1 means tail\n",
    "    tail.append(tail[x]+coin)\n",
    "    print(coin)\n",
    "    print(tail) \n",
    "print(\"\\n\")\n",
    "print(\"total no. of tails : \"+str(tail[-1]))"
   ]
  },
  {
   "cell_type": "code",
   "execution_count": null,
   "metadata": {
    "collapsed": true
   },
   "outputs": [],
   "source": [
    "#now for distribution we repeat same process for 1000 times"
   ]
  },
  {
   "cell_type": "code",
   "execution_count": 32,
   "metadata": {},
   "outputs": [
    {
     "name": "stdout",
     "output_type": "stream",
     "text": [
      "[4, 4, 4, 4, 2, 5, 5, 4, 6, 5, 7, 7, 5, 7, 6, 6, 8, 5, 6, 5, 5, 5, 5, 4, 5, 4, 5, 4, 5, 7, 4, 5, 3, 6, 6, 3, 2, 7, 7, 3, 6, 7, 6, 4, 6, 5, 5, 5, 6, 5, 5, 6, 4, 5, 6, 6, 6, 3, 4, 4, 3, 4, 6, 2, 6, 5, 5, 4, 5, 7, 4, 7, 6, 5, 7, 4, 6, 6, 5, 6, 6, 6, 4, 5, 5, 4, 5, 7, 4, 5, 5, 6, 6, 5, 5, 5, 4, 6, 3, 7, 9, 6, 4, 3, 4, 5, 5, 7, 6, 3, 3, 5, 3, 5, 1, 3, 4, 5, 2, 6, 6, 4, 2, 5, 6, 4, 6, 2, 8, 6, 8, 5, 4, 7, 7, 7, 3, 4, 7, 5, 4, 1, 4, 5, 7, 4, 3, 5, 5, 8, 5, 5, 2, 5, 5, 2, 6, 5, 3, 7, 6, 5, 5, 7, 4, 4, 6, 7, 7, 5, 6, 3, 5, 5, 2, 6, 3, 7, 8, 5, 4, 6, 4, 3, 4, 5, 5, 5, 5, 2, 7, 2, 5, 6, 3, 7, 3, 4, 4, 5, 6, 8, 5, 4, 7, 5, 6, 5, 5, 5, 7, 7, 3, 5, 2, 4, 5, 4, 9, 7, 5, 2, 5, 5, 4, 4, 4, 4, 6, 5, 6, 3, 3, 6, 4, 5, 6, 4, 8, 3, 7, 7, 4, 5, 3, 5, 3, 3, 2, 5, 4, 6, 4, 4, 5, 5, 4, 6, 6, 4, 6, 5, 5, 7, 5, 6, 4, 7, 4, 5, 5, 4, 5, 6, 5, 0, 6, 4, 7, 8, 5, 2, 5, 2, 3, 5, 4, 4, 6, 4, 5, 5, 6, 4, 5, 4, 6, 2, 8, 4, 5, 4, 8, 6, 4, 5, 8, 6, 5, 4, 4, 3, 3, 2, 6, 7, 6, 6, 1, 5, 4, 7, 6, 3, 4, 6, 5, 5, 4, 4, 7, 5, 7, 7, 8, 7, 5, 4, 4, 5, 6, 5, 5, 7, 3, 4, 7, 5, 3, 8, 7, 7, 5, 5, 7, 3, 4, 3, 5, 5, 1, 5, 3, 5, 3, 6, 5, 8, 5, 5, 6, 5, 4, 7, 6, 4, 5, 5, 5, 5, 6, 4, 1, 7, 7, 6, 3, 8, 7, 5, 6, 5, 3, 5, 5, 6, 6, 6, 6, 4, 7, 4, 4, 4, 6, 5, 6, 3, 5, 9, 4, 3, 5, 3, 4, 5, 6, 4, 4, 8, 4, 4, 6, 6, 4, 6, 3, 8, 5, 5, 3, 5, 6, 6, 5, 4, 6, 10, 6, 6, 6, 5, 5, 5, 5, 3, 7, 6, 10, 6, 7, 5, 7, 3, 5, 3, 8, 6, 9, 2, 6, 5, 5, 8, 6, 5, 3, 4, 6, 5, 4, 5, 4, 5, 5, 6, 5, 4, 7, 6, 3, 5, 6, 4, 4, 3, 3, 6, 4, 5, 5, 5, 4, 6, 5, 6, 4, 5, 5, 3, 4, 5, 5, 6, 6, 4, 7, 3, 3, 6, 6, 4, 6, 5, 4, 4, 6, 8, 4, 3, 7, 5, 5, 7, 5, 2, 6, 4, 3, 4, 2, 7, 3, 4, 7, 4, 6, 7, 5, 7, 6, 4, 9, 6, 4, 4, 5, 5, 3, 6, 6, 4, 3, 3, 7, 6, 6, 6, 6, 4, 4, 3, 3, 5, 4, 5, 5, 7, 7, 3, 6, 5, 7, 3, 3, 7, 3, 4, 3, 3, 4, 5, 6, 6, 7, 6, 5, 3, 4, 6, 5, 7, 6, 6, 3, 3, 6, 3, 5, 4, 3, 4, 3, 2, 6, 6, 5, 3, 7, 5, 3, 7, 4, 4, 3, 4, 6, 4, 4, 6, 3, 5, 7, 5, 5, 4, 3, 3, 8, 4, 8, 5, 5, 5, 5, 5, 2, 6, 5, 3, 1, 7, 3, 6, 4, 3, 8, 4, 7, 5, 3, 6, 5, 4, 6, 4, 7, 4, 8, 4, 3, 3, 4, 5, 5, 5, 4, 4, 4, 7, 5, 3, 5, 4, 6, 5, 5, 8, 2, 7, 5, 5, 5, 5, 5, 5, 6, 3, 6, 5, 6, 6, 1, 2, 4, 6, 4, 8, 5, 7, 8, 3, 4, 2, 7, 5, 7, 7, 8, 3, 4, 5, 6, 2, 7, 8, 6, 7, 4, 3, 5, 6, 6, 6, 7, 6, 4, 8, 4, 6, 3, 6, 3, 1, 4, 5, 5, 3, 4, 6, 4, 5, 4, 7, 5, 4, 4, 5, 5, 7, 2, 4, 4, 1, 5, 2, 7, 6, 6, 3, 1, 7, 2, 4, 7, 4, 6, 2, 8, 6, 8, 6, 5, 7, 5, 6, 6, 5, 5, 5, 5, 5, 6, 10, 3, 5, 4, 5, 4, 7, 6, 3, 3, 8, 6, 3, 5, 3, 4, 5, 4, 4, 5, 5, 6, 6, 5, 6, 6, 5, 2, 8, 5, 4, 7, 6, 3, 6, 5, 4, 4, 6, 4, 7, 5, 7, 5, 7, 5, 2, 4, 3, 4, 6, 3, 6, 4, 4, 5, 6, 7, 7, 5, 3, 3, 4, 3, 6, 6, 6, 6, 6, 5, 7, 4, 5, 6, 4, 5, 4, 4, 2, 4, 1, 8, 5, 5, 3, 4, 5, 5, 7, 3, 5, 6, 6, 7, 3, 7, 7, 3, 9, 6, 8, 8, 5, 5, 3, 5, 6, 6, 6, 7, 5, 3, 3, 8, 7, 4, 3, 5, 5, 3, 4, 3, 7, 2, 5, 5, 6, 4, 8, 5, 7, 5, 1, 4, 5, 5, 4, 5, 3, 5, 4, 6, 3, 9, 8, 5, 6, 3, 5, 7, 7, 4, 2, 3, 4, 6, 6, 3, 4, 6, 6, 8, 4, 5, 6, 3, 5, 4, 5, 7, 6, 6, 5, 7, 5, 8, 2, 6, 6, 6, 4, 5, 6, 4, 2, 5, 6, 6, 5, 6, 5, 8, 5, 6, 9, 7, 5, 5, 5, 5, 6, 4, 7, 7, 6, 4, 6, 5, 6, 1, 6, 6, 6, 6, 6, 6, 3]\n"
     ]
    }
   ],
   "source": [
    "final_tail=[]\n",
    "for x in range(1000):\n",
    "    tail = [0]\n",
    "    for x in range(10) : #tossing 10 times\n",
    "        coin = np.random.randint(0,2) #0 means head and 1 means tail\n",
    "        tail.append(tail[x]+coin)\n",
    "    final_tail.append(tail[-1])\n",
    "print(final_tail)\n"
   ]
  },
  {
   "cell_type": "code",
   "execution_count": 30,
   "metadata": {},
   "outputs": [
    {
     "data": {
      "image/png": "[encoded data removed]",
      "text/plain": [
       "<matplotlib.figure.Figure at 0x7fba2c690e10>"
      ]
     },
     "metadata": {},
     "output_type": "display_data"
    }
   ],
   "source": [
    "#for visualizing the distribution\n",
    "import matplotlib.pyplot as plt\n",
    "plt.hist(final_tail,bins=10)\n",
    "plt.show()"
   ]
  },
  {
   "cell_type": "code",
   "execution_count": null,
   "metadata": {
    "collapsed": true
   },
   "outputs": [],
   "source": [
    "#we can see if we toss coin for 10 times there is probability of getting ta"
   ]
  }
 ],
 "metadata": {
  "kernelspec": {
   "display_name": "Python 2",
   "language": "python",
   "name": "python2"
  },
  "language_info": {
   "codemirror_mode": {
    "name": "ipython",
    "version": 2
   },
   "file_extension": ".py",
   "mimetype": "text/x-python",
   "name": "python",
   "nbconvert_exporter": "python",
   "pygments_lexer": "ipython2",
   "version": "2.7.13"
  }
 },
 "nbformat": 4,
 "nbformat_minor": 2
}
